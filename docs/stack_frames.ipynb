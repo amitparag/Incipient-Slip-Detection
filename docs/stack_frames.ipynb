{
 "cells": [
  {
   "cell_type": "code",
   "execution_count": 1,
   "id": "3f268b0f-b68b-43a6-b908-34c29e20de40",
   "metadata": {},
   "outputs": [],
   "source": [
    "import cv2\n",
    "import os\n",
    "\n",
    "def extract_frames(video_path, output_folder):\n",
    "    # Create output folder if it doesn't exist\n",
    "    if not os.path.exists(output_folder):\n",
    "        os.makedirs(output_folder)\n",
    "\n",
    "    # Open the video file\n",
    "    vidcap = cv2.VideoCapture(video_path)\n",
    "    success, image = vidcap.read()\n",
    "    count = 0\n",
    "\n",
    "    # Loop through frames and save each frame as an image\n",
    "    while success:\n",
    "        # Save frame as JPEG file\n",
    "        cv2.imwrite(os.path.join(output_folder, f\"frame_{count:04d}.jpg\"), image)  \n",
    "        \n",
    "        # Read next frame\n",
    "        success, image = vidcap.read()\n",
    "        count += 1\n",
    "\n",
    "    # Release the VideoCapture object\n",
    "    vidcap.release()\n",
    "    print(f\"Total {count} frames extracted and saved to '{output_folder}'\")"
   ]
  },
  {
   "cell_type": "code",
   "execution_count": 4,
   "id": "e8230654-8e1e-4245-86db-8336bd1b76fd",
   "metadata": {},
   "outputs": [
    {
     "name": "stdout",
     "output_type": "stream",
     "text": [
      "Total 5 frames extracted and saved to './stacked_frames/1'\n"
     ]
    }
   ],
   "source": [
    "video_path = '1.avi'\n",
    "output_folder = './stacked_frames/1'\n",
    "extract_frames(video_path, output_folder)"
   ]
  },
  {
   "cell_type": "code",
   "execution_count": null,
   "id": "73168852-57ed-423e-91fc-7dcb36afd67a",
   "metadata": {},
   "outputs": [],
   "source": []
  }
 ],
 "metadata": {
  "kernelspec": {
   "display_name": "Python 3 (ipykernel)",
   "language": "python",
   "name": "python3"
  },
  "language_info": {
   "codemirror_mode": {
    "name": "ipython",
    "version": 3
   },
   "file_extension": ".py",
   "mimetype": "text/x-python",
   "name": "python",
   "nbconvert_exporter": "python",
   "pygments_lexer": "ipython3",
   "version": "3.8.18"
  }
 },
 "nbformat": 4,
 "nbformat_minor": 5
}
